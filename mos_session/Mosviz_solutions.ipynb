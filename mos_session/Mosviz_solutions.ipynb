{
 "cells": [
  {
   "cell_type": "markdown",
   "metadata": {},
   "source": [
    "## Introduction\n",
    "\n",
    "This notebook demonstrates how to visualize and analyze JWST MOS spectra, including how to:\n",
    "\n",
    "* Launch [Mosviz](https://jdaviz.readthedocs.io/en/latest/mosviz/index.html)\n",
    "* [Load MOS data](https://jdaviz.readthedocs.io/en/latest/mosviz/import_data.html) from a notebook cell\n",
    "* Adjust [display parameters](https://jdaviz.readthedocs.io/en/latest/cubeviz/displaycubes.html#display-settings)\n",
    "* Select [spectral regions](https://jdaviz.readthedocs.io/en/latest/specviz/displaying.html#spectral-regions) for further analysis \n",
    "* [Line analysis](https://jdaviz.readthedocs.io/en/latest/specviz/plugins.html#line-analysis): centroids, widths, and fluxes\n",
    "* Load custom [line lists](https://jdaviz.readthedocs.io/en/latest/specviz/plugins.html#line-lists)\n",
    "\n",
    "\n",
    "JWebbinar notebook created by Patrick Ogle at STScI"
   ]
  },
  {
   "cell_type": "markdown",
   "metadata": {},
   "source": [
    "## Data\n",
    "\n",
    "We use simulated NIRSpec MOS PRISM data created with the NIRSpec Instrument Performance Simulator (IPS).  This consists of 33 sources (primarily galaxies) plus background \n",
    "from 33 open slitlets. The dataset is not publicly released and will be replaced with another, better dataset when it becomes available.  Please do not distribute this version.\n",
    "\n",
    "The simulated Level 2a data were run through the JWST Spec2 and Spec3 pipelines to create Level 2b and Level 3 (s2d and x1d) data products. Background subtraction was performed on the Level 3 data. The flux calibration for this dataset is inaccurate, pending on-orbit calibration."
   ]
  },
  {
   "cell_type": "markdown",
   "metadata": {},
   "source": [
    "## Imports\n",
    "* [_jdaviz_](https://jdaviz.readthedocs.io/en/latest/) : [Mosviz](https://jdaviz.readthedocs.io/en/latest/mosviz/index.html) data visualization tool\n",
    "* [os](https://docs.python.org/3/library/os.html), [glob](https://docs.python.org/3/library/glob.html), [zipfile](https://docs.python.org/3/library/zipfile.html), and [astropy.utils.data.download_file](https://docs.astropy.org/en/stable/api/astropy.utils.data.download_file.html) for file management \n",
    "* [astropy.units](https://docs.astropy.org/en/stable/units/index.html) and [astropy.table](https://docs.astropy.org/en/stable/table/index.html) for line lists"
   ]
  },
  {
   "cell_type": "code",
   "execution_count": null,
   "metadata": {},
   "outputs": [],
   "source": [
    "from jdaviz import Mosviz\n",
    "import os\n",
    "import glob\n",
    "import zipfile\n",
    "from astropy.utils.data import download_file\n",
    "\n",
    "import numpy as np\n",
    "import astropy.units as u\n",
    "import astropy.table as t"
   ]
  },
  {
   "cell_type": "markdown",
   "metadata": {},
   "source": [
    "## Visualize simulated NIRSpec MOS data\n",
    "\n",
    "Execute the next cell to launch Mosviz, then follow the instructions for each task enumerated in the cell directly below the Cubeviz app."
   ]
  },
  {
   "cell_type": "code",
   "execution_count": null,
   "metadata": {},
   "outputs": [],
   "source": [
    "mosviz = Mosviz()\n",
    "mosviz.app"
   ]
  },
  {
   "cell_type": "markdown",
   "metadata": {},
   "source": [
    "## UI Instructions:\n",
    "#### Task 1:  Load the MOS data and view it\n",
    "* Load the NIRSpec MOS spectra and image cutouts into Mosviz using the code cells below\n",
    "* Click on the third row (not the checkbox) in the Mosviz table viewer to display data for one of the sources in the MOS dataset.\n",
    "* Open the Display menu of the Image viewer. In the Layer tab, change the stretch to Square Root, 99.5 percentile.\n",
    "* Try adjusting the stretch and colormap in the 2D spectrum viewer.\n",
    "\n",
    "#### Task 2:  Toggle the slit viewer on and off\n",
    "* Find the Slit Overlay Plugin by clicking the icon at upper right corner of the application.\n",
    "* Uncheck or check the box to turn the slit viewer off or on.\n",
    "\n",
    "#### Task 3: Select a spectral region for further analysis\n",
    "* Use the horizontal and vertical pan-zoom tools in the 1D spectrum viewer to zoom in on the spectral line at 2 microns.  Note that the 2D spectral region matches the selection in the 1D viewer.\n",
    "* Use the spectral region selection tool in the 1D spectrum viewer to select the line at 2 microns (Subset 1).\n",
    "\n",
    "#### Task 4: Measure line centroids using the Line Analysis plugin\n",
    "* Find the Line Analysis Plugin by clicking the 'Lego' icon at upper right.\n",
    "* Select a dataset with the Data dropdown (e.g. Subset1).\n",
    "* Several line properties are automatically computed (flux, equivalent width, Gaussian sigma, Gaussian FWHM, and Centroid) using specutils functionality. Note that the line flux, Gaussian sigma, FWHM, and centroid require continuum subtraction or normalization, and will not be correct if there is a significant continuum component. The equivalent width, on the other hand, requires the continuum to be normalized to unity to give a correct answer. \n",
    "* The Halpha emission line complex is at 1.92 microns (redshift z = 1.93) \n",
    "* Now determine the centroid wavelength of the line at ~1.5 microns.  What is the line ID?\n",
    "\n",
    "#### Task 5: Identify spectral lines using the Line Lists plugin\n",
    "* Open the Line Lists plugin to create a custom line list: OIII5007 (1.467 um), Halpha (1.923 um)\n",
    "* Click on the 'Custom' tab and enter the first line name, wavelength, and wavelength unit, and click 'Add Line'\n",
    "* In the same place, enter the values for the second line and 'Add Line'\n",
    "* Click through the other spectra to see if those same lines appear (Hint: it is one of the first 5)\n",
    "\n",
    "#### Task 6: Load a line list from the notebook and display them in the spectrum viewer\n",
    "* Run the cell below to load a custom line list programmatically\n",
    "* Open the Line Lists plugin\n",
    "* Change the color of the 'Galaxy3' line list to distinguish from the 'Custom' line list\n",
    "* Click on Hide/Show All in the Galaxy3 line list to toggle lines on and off\n",
    "* Check/uncheck individual lines to show only the ones you want\n"
   ]
  },
  {
   "cell_type": "code",
   "execution_count": null,
   "metadata": {},
   "outputs": [],
   "source": [
    "# Redshifted optical emission lines\n",
    "\n",
    "line = ['OII', 'Hbeta', 'OIIIa', 'OIIIb', 'Halpha', 'SII', 'Palpha']\n",
    "wavel = [.3727, .4861, .4959, .5007, .6563, .6724, 1.8756]\n",
    "z = 1.93\n",
    "\n",
    "wave = np.array(wavel)*(1+z)\n",
    "print(line)\n",
    "print(wave)\n",
    "\n",
    "# Create an astropy table \n",
    "lt = t.QTable()\n",
    "lt['linename'] = line\n",
    "lt['rest'] = wavel * u.um\n",
    "lt['redshift'] = u.Quantity(z)\n",
    "lt['listname'] = \"Galaxy3\"\n",
    "print(lt)\n",
    "\n",
    "# Load the line list table into the Line Lists plugin\n",
    "mosviz.specviz.load_line_list(lt)"
   ]
  },
  {
   "cell_type": "markdown",
   "metadata": {},
   "source": [
    "## Download the data\n",
    "\n",
    "The JWST NIRSpec MOS dataset that was used in the Jwebbinar is not yet publically available.  Please substitute any other MOS dataset in the ./mosdata directory, including 1D spectra, 2D spectra, and 'cutouts' subdirectory (if available)."
   ]
  },
  {
   "cell_type": "code",
   "execution_count": null,
   "metadata": {},
   "outputs": [],
   "source": [
    "data_dir = './mosdata'\n",
    "if not os.path.isdir(data_dir):\n",
    "    os.makedirs(data_dir)\n",
    "    \n",
    "# Replace the following two lines with your data URL and filename--see note in previous markdown cell    \n",
    "ziplink=\"MyDataURL\"\n",
    "zipfilename = 'nirspec_mosdata_prism.zip'\n",
    "\n",
    "# Download zip file containing MOS data from above URL\n",
    "if not os.path.isfile(os.path.join(data_dir, zipfilename)):\n",
    "    print('Downloading {}...'.format(zipfilename))\n",
    "    demo_file = download_file(ziplink, cache=True)\n",
    "    # Make a symbolic link using a local name for convenience\n",
    "    print(os.path.join(data_dir, zipfilename))\n",
    "    os.symlink(demo_file, os.path.join(data_dir, zipfilename))\n",
    "else:\n",
    "    print('{} already exists, skipping download...'.format(zipfilename))\n",
    "    \n",
    "# Unzip the MOS data and put into data_dir\n",
    "zf = zipfile.ZipFile(data_dir+'/'+zipfilename, 'r')\n",
    "zf.extractall(data_dir)\n"
   ]
  },
  {
   "cell_type": "markdown",
   "metadata": {},
   "source": [
    "## Load the data into Mosviz"
   ]
  },
  {
   "cell_type": "code",
   "execution_count": null,
   "metadata": {},
   "outputs": [],
   "source": [
    "data_dir = './mosdata'\n",
    "mosviz.load_data(directory=data_dir, instrument=\"nirspec\")"
   ]
  }
 ],
 "metadata": {
  "kernelspec": {
   "display_name": "Python 3 (ipykernel)",
   "language": "python",
   "name": "python3"
  },
  "language_info": {
   "codemirror_mode": {
    "name": "ipython",
    "version": 3
   },
   "file_extension": ".py",
   "mimetype": "text/x-python",
   "name": "python",
   "nbconvert_exporter": "python",
   "pygments_lexer": "ipython3",
   "version": "3.9.6"
  }
 },
 "nbformat": 4,
 "nbformat_minor": 4
}
