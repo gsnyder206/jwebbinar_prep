{
 "cells": [
  {
   "cell_type": "markdown",
   "metadata": {},
   "source": [
    "# JWebbinar MIRISim: Walkthrough of MIRISim (MRS)\n",
    "**Authors**: O. Jones & P. Klaassen (UK ATC) | **Latest update**: 28 Oct 2021\n",
    "\n",
    "**MIRISim Version**: 2.4.1\n",
    "\n",
    "--------------------------------------------------------------\n",
    "\n",
    "  \n",
    "  \n",
    " \n",
    "In this notebook, we create a few example scenes and use one of them (with two point sources and an extended source in the MIRI Medium Resolution Spectrometer field of view) and execute a MIRISim simulation. At each stage of building up the simulation and running it, we present the resultant products.\n",
    "\n",
    "\n",
    "\n",
    "### Steps in this notebook: <a class=\"anchor\" id=\"steps\"></a>\n",
    "\n",
    "1. Create a Scene\n",
    "2. Initialise the simulation parameters\n",
    "3. Run the simulation\n",
    "4. Examine some of the outputs.\n",
    "\n",
    "## Table of contents\n",
    "- [Resources](#resources) \n",
    "- [Installation Check](#installation) \n",
    "- [Import Libraries](#libraries)\n",
    "- [Create a Scene](#scene) \n",
    "- [Initialise the Simulation](#Initialise)\n",
    "- [Run the Simulation](#run) \n",
    "- [Examine some of the results](#results) \n",
    "- [Bonus: Running MIRISim with an APT file](#APTfile) \n",
    "- [Bonus: Some usefull functions](#function) \n",
    "\n",
    "## Resources <a class=\"anchor\" id=\"resources\"></a>\n",
    "    \n",
    "* [MIRISim Webpage maintained by the MIRISim development team](https://wiki.miricle.org/Public/MIRISim_Public)  \n",
    "* [MIRISim Science Examples on github](https://github.com/JWST-MIRI/MIRISim-Science-Examples)  \n",
    "* [Troubleshooting MIRISim installation](https://wiki.miricle.org/Public/MirisimInstallation#Troubleshooting)\n",
    "* [STScI Webpage for JWebbinars](https://www.stsci.edu/jwst/science-execution/jwebbinars)\n",
    "* [JWST Documentation (JDox) for JWST data products](https://jwst-docs.stsci.edu/obtaining-data)\n",
    "* [The most up-to-date information about JWST data products in the pipeline readthedocs](https://jwst-pipeline.readthedocs.io/en/latest/jwst/data_products/index.html)\n",
    "* [PySynphot](https://pysynphot.readthedocs.io/en/latest/)"
   ]
  },
  {
   "cell_type": "markdown",
   "metadata": {},
   "source": [
    "## Installation Check <a class=\"anchor\" id=\"installation\"></a>\n",
    "\n",
    "**NOTE:** This notebook must be started within the *mirisim anaconda environment*. This is a pre-requist for using MIRISim, and installation instructions can be found [here](https://wiki.miricle.org/Public/MirisimInstallation). The installation can be checked with any of the following Python commands:\n",
    "\n",
    "``` \n",
    "python\n",
    "    import miri\n",
    "    print( miri.__version__ )\n",
    "    import mirisim\n",
    "    print( mirisim.version.__version__ )  \n",
    "```\n",
    "\n",
    "or via \n",
    "<code>mirisim --help</code> \n",
    "\n",
    "\n",
    "When launching the notebook, make sure you've run \n",
    "\n",
    "<code>conda activate mirisim</code> \n",
    "\n",
    "in the terminal before starting the notebook: <code>jupyter notebook MIRISim_MRS_walkthrough_Webbinar.ipynb </code>"
   ]
  },
  {
   "cell_type": "markdown",
   "metadata": {},
   "source": [
    "## Import the libraries used in this notebook:  <a class=\"anchor\" id=\"libraries\"></a>"
   ]
  },
  {
   "cell_type": "code",
   "execution_count": 1,
   "metadata": {},
   "outputs": [
    {
     "data": {
      "text/html": [
       "<style>.container { width:89% !important; }</style>"
      ],
      "text/plain": [
       "<IPython.core.display.HTML object>"
      ]
     },
     "metadata": {},
     "output_type": "display_data"
    }
   ],
   "source": [
    "#Basic system utilities\n",
    "import numpy as np\n",
    "import glob                 # glob is used to find the output directory\n",
    "import os                   # for listing directory contents\n",
    "from astropy.io import fits # for reading FITS file contents\n",
    "\n",
    "# Import python packages used to display images inline in the notebook\n",
    "import matplotlib.pyplot as plt    \n",
    "from matplotlib import colors,cm\n",
    "%matplotlib inline       \n",
    "\n",
    "# Make the notebook screen space wider\n",
    "from IPython.core.display import display, HTML\n",
    "display(HTML(\"<style>.container { width:89% !important; }</style>\"))"
   ]
  },
  {
   "cell_type": "code",
   "execution_count": 2,
   "metadata": {},
   "outputs": [],
   "source": [
    "# Now import MIRISim specific packages \n",
    "\n",
    "# import the configuration file parsers so they can be written to file\n",
    "from mirisim.config_parser import SimConfig, SimulatorConfig, SceneConfig\n",
    "\n",
    "# import scene component generators\n",
    "from mirisim.skysim import Background, sed, Point, Galaxy, kinetics, ExternalSed\n",
    "from mirisim.skysim import wrap_pysynphot as wS\n",
    "\n",
    "from mirisim import MiriSimulation"
   ]
  },
  {
   "cell_type": "code",
   "execution_count": null,
   "metadata": {},
   "outputs": [],
   "source": [
    "# Optional: Setup a timer to keep track of runtime\n",
    "from datetime import datetime\n",
    "\n",
    "now = datetime.now()\n",
    "start = now\n",
    "start_time = now.strftime(\"%H:%M:%S\")"
   ]
  },
  {
   "cell_type": "markdown",
   "metadata": {},
   "source": [
    "##  Create a Scene  <a class=\"anchor\" id=\"scene\"></a>\n",
    "\n",
    "Each scene should include at minimum: 1) a background level; 2) a science source. \n",
    "\n",
    "Targets in a scene can be generated using a range of spatial, spectral and velocity information. \n",
    "The spatial extent of the target should be set first, then spectral component, finaly a velocity map can be attributed to the target, which will modify its spectral specifications across the object.\n",
    "\n",
    "**Hint:** Remember to import the scene component generators befour you wish to use them, idealy when initialsing the notebook. \n",
    "\n",
    "#### Types of Targets: Spatial Specifications\n",
    "<code>Background</code> -  Represents the Sky + Observatory background noise seen by MIRI in (muJy/arcsec^2).\n",
    "\n",
    "<code>Point</code> - Represents a point source to which an SED can be added.\n",
    "\n",
    "<code>Galaxy</code> - Represents an extended object described by a Sersic index (n=1: exponential profile, n=4: de Vaoucouleurs) of the Galaxy.\n",
    "\n",
    "<code>SersicDisk</code> - Represents an extended object described by a Sersic disk. \n",
    "\n",
    "<code>ExpDisk</code> - Represents an exponential profile Disk object.\n",
    "\n",
    "All extended sources (<code>Galaxy</code>, <code>SersicDisk</code>, <code>ExpDisk</code>) have the added parameterisation of their spatial extents. Disk truncation radii can be set for extended objects, but spiral arms cannot. Note: Extended sources, such as Galaxy, with angular size smaller than a pixel may suffer from flux loss due to low spatial resolution. Please, use a point source (<code>Point</code>) or a skycube fits file (<code>Skyscene</code>) instead.\n",
    "\n",
    "\n",
    "#### Types of Targets: Spectral Specifications\n",
    "\n",
    "Users can set the spectral energy distributions (SEDs) for the target via a range of methods. The key types incude blackbodies <code>sed.BBSed</code>, and power law spectra <code>sed.PLSed</code>. These continuous SEDs take reference wavelengths (microns) and fluxes (microJy) as inputs as well as reference temperatures (K) and power-law indicies (respectively).\n",
    "\n",
    "\n",
    "<code>Blackbody = sed.BBSed(Temp = 800., wref = 10., flux = 1e5)</code>\n",
    "\n",
    "\n",
    "<code>PowerLaw = sed.PLSed(alpha=1.0,flux=5e5,wref=10.)</code>\n",
    "\n",
    "\n",
    "Users can also define a set of spectral lines. Here the user sets as input the integrated intensities (10^-20 W/m^2) for each of the lines initialised at specified wavelengths and fwhms (in microns).\n",
    "\n",
    "<code>lines_sed = LinesSed(wavels = [5.6,6.6], fluxes = [1.e4,1.e4], fwhms = [1e-3,1e-3])</code>\n",
    "\n",
    "\n",
    "Alternatively users can specify SEDs using the models integrated into [PySynphot](https://pysynphot.readthedocs.io/en/latest/) <code>wS.PYSPSed</code>. There is a large range of available models to choose from, please refer to the documentation on the pysynphot website for a listing of the available models, expected input units for each model, and wavelength ranges covered by those models. An example PySynPhot SED is provided below. *Caution - many of these models **do not** extend to the MIRI wavelengths (5-28 microns).* \n",
    "\n",
    "\n",
    "Users may also import an external SED from text file of two columns: 1) wavelengths (in microns), 2) flux densities (in microJy). \n",
    "\n",
    "<code>ext_sed = ExternalSed(sedfile = 'sedext.txt')</code>\n",
    "\n",
    "#### Types of Targets: Velocity Specifications\n",
    "\n",
    "If your target is expected to be rotating a velocity map <code>set_velomap</code> can be applied to your extended object. This will shift the SED as a function of position within the galaxy/disk. A range of options are avaiable e.g., <code>FlatDisk</code>, <code>KeplerDisk</code>, <code>Losvd</code>. Please see the MIRISim documutation for more details. \n",
    "\n",
    "\n",
    "### Building our scene from component targets \n",
    "\n",
    "The scene created below consists of two point sources and an edge-on Galaxy, all three of which fit within the MIRI Medium Resolution Spectrometer (MRS) IFU field of view. The first point source has a blackbody SED, the second a pysynphot SED. The galaxy has a powerlaw SED, which is modified by a Keplerian velocity field. **This is the scene used in the MIRISim calculation below.** \n",
    "\n",
    "#### Create a low level background for the scene"
   ]
  },
  {
   "cell_type": "code",
   "execution_count": null,
   "metadata": {},
   "outputs": [],
   "source": [
    "### Create a background level for the scene \n",
    "bg = "
   ]
  },
  {
   "cell_type": "markdown",
   "metadata": {},
   "source": [
    "#### Create the First Point Source\n"
   ]
  },
  {
   "cell_type": "code",
   "execution_count": null,
   "metadata": {},
   "outputs": [],
   "source": [
    "# initialise the point source with a position\n",
    "point1 = Point(Cen = (0.5,0.5))\n",
    "\n",
    "# set properties of the SED\n",
    "Blackbody = \n",
    "\n",
    "# add the SED to the point source\n",
    "\n",
    "\n",
    "# plot the SED in the 5-28 micron range to show what's being simulated\n",
    "point1."
   ]
  },
  {
   "cell_type": "markdown",
   "metadata": {},
   "source": [
    "#### Create the Second Point Source"
   ]
  },
  {
   "cell_type": "code",
   "execution_count": null,
   "metadata": {},
   "outputs": [],
   "source": [
    "# Initialise the point source with a position\n",
    "point2 = \n",
    "\n",
    "# Set the properties of the SED \n",
    "# The ‘bkmodels’ are the Buser-Kurucz stellar atmosphere models in the pysynphot Spectral Atlases\n",
    "# This model has been normalised to a flux of 1.e5 micro Jy at 10 microns \n",
    "PYSPsedDict = {'family':'bkmodels','sedname':'bk_b0005','flux':1.e5, 'wref':10.}     \n",
    "sedP2 = wS.PYSPSed(**PYSPsedDict)\n",
    "\n",
    "# add the SED to the point source\n",
    "point2.set_SED()\n",
    "\n",
    "# plot the SED in the 5-28 micron range to show what's being simulated\n",
    "point2.plot_spec(wrange=[5,28])"
   ]
  },
  {
   "cell_type": "markdown",
   "metadata": {},
   "source": [
    "#### Create the an extended source (a galaxy) in the middle of the MRS field of view with a power law SED"
   ]
  },
  {
   "cell_type": "code",
   "execution_count": null,
   "metadata": {},
   "outputs": [],
   "source": [
    "# initialise an extended source (a galaxy) in the middle of the MRS field of view\n",
    "galaxy = "
   ]
  },
  {
   "cell_type": "markdown",
   "metadata": {},
   "source": [
    "Set the properties of the SED - in this instance a power law is used.\n",
    "\n",
    "An optional velocity shift (e.g., v = 20 in km/s) or Redshift (z = 0.4) can also be applied when setting the SED."
   ]
  },
  {
   "cell_type": "code",
   "execution_count": null,
   "metadata": {},
   "outputs": [],
   "source": [
    "PowerLaw = \n",
    "\n",
    "# add the SED to the galaxy\n",
    "galaxy."
   ]
  },
  {
   "cell_type": "markdown",
   "metadata": {},
   "source": [
    "Create a velocity mapping for the SED."
   ]
  },
  {
   "cell_type": "code",
   "execution_count": null,
   "metadata": {},
   "outputs": [],
   "source": [
    "VMAPpars = {'vrot': 200., 'Cen': (0., -0.5), 'pa': 90., 'q': 0.1, 'c': 0} \n",
    "VelocityMap = \n",
    "\n",
    "# add the velocity map to the galaxy\n",
    "galaxy."
   ]
  },
  {
   "cell_type": "markdown",
   "metadata": {},
   "source": [
    "Add a line of sight velocity distribution to the galaxy - using a Gauss-Hermite expansion."
   ]
  },
  {
   "cell_type": "code",
   "execution_count": null,
   "metadata": {},
   "outputs": [],
   "source": [
    "losVeloDist = kinetics.Losvd(sigma=200.,h3=0.,h4=0.)\n",
    "galaxy.set_LOSVD(losVeloDist)"
   ]
  },
  {
   "cell_type": "markdown",
   "metadata": {},
   "source": [
    "Plot the source spatial and spectral infomation using the built in functions."
   ]
  },
  {
   "cell_type": "code",
   "execution_count": null,
   "metadata": {},
   "outputs": [],
   "source": [
    "galaxy.plot_spatial(RArange=[-3,3],DErange=[-3,3],WArange=[4.9,5.1])\n",
    "galaxy.plot_spec(wrange=[5,25])"
   ]
  },
  {
   "cell_type": "markdown",
   "metadata": {},
   "source": [
    "#### In this second example we will create an extended source with a flat SED and  six spectral lines in the 5 - 10 micron region with a FWHM of 1e-2 microns"
   ]
  },
  {
   "cell_type": "code",
   "execution_count": null,
   "metadata": {},
   "outputs": [],
   "source": [
    "# create an extended source in the middle of the MRS field of view\n",
    "ext_src = Galaxy(Cen = (0.,0.), n = 2., re = 1.2, q = 0.5, pa = 35.)"
   ]
  },
  {
   "cell_type": "markdown",
   "metadata": {},
   "source": [
    "After the object has been created the spectral perameters can now be set."
   ]
  },
  {
   "cell_type": "code",
   "execution_count": null,
   "metadata": {},
   "outputs": [],
   "source": [
    "Nlines = 6         # nlines\n",
    "line_peaks = 1e5   # Flambda - NOTE: lambda x Flambda = nu x Fnu\n",
    "FWHM = 1e-2        # microns \n",
    "\n",
    "line_wavs = np.linspace(5,10,Nlines)  # Make an array for the line wavelenghts \n",
    "fwhms = np.full(Nlines, FWHM)         # Make an array for the FWHM\n",
    "\n",
    "# Convert line peaks into integrated intensities for MIRISim to parse - units 10^-20 W/m^2\n",
    "integ_flux = [line_peaks /((FWHM*y)*(np.sqrt(2*np.pi)))**2 for y in line_wavs ]\n",
    "\n",
    "LINEpars = {'wavels': line_wavs,    # microns \n",
    "            'fluxes': integ_flux,   # 10^-20 W/m^2\n",
    "            'fwhms': fwhms}         # microns \n",
    "\n",
    "lines = sed.LinesSed(**LINEpars)\n",
    "\n",
    "# add the line SED to the extended source\n",
    "ext_src.set_SED(lines)"
   ]
  },
  {
   "cell_type": "markdown",
   "metadata": {},
   "source": [
    "Plot the source spatial and spectral infomation using the built in functions."
   ]
  },
  {
   "cell_type": "code",
   "execution_count": null,
   "metadata": {},
   "outputs": [],
   "source": [
    "ext_src.plot_spatial(RArange=[-3,3],DErange=[-3,3],WArange=[4.9,5.1])\n",
    "ext_src.plot_spec(wrange=[5,11])"
   ]
  },
  {
   "cell_type": "markdown",
   "metadata": {},
   "source": [
    "### From the components, create a scene\n",
    "\n",
    "Making a scene is as simple as adding together the targets."
   ]
  },
  {
   "cell_type": "code",
   "execution_count": null,
   "metadata": {},
   "outputs": [],
   "source": [
    "scene ="
   ]
  },
  {
   "cell_type": "markdown",
   "metadata": {},
   "source": [
    "A target list can also be created for use in the scene configuration - this excludes the background. "
   ]
  },
  {
   "cell_type": "code",
   "execution_count": null,
   "metadata": {},
   "outputs": [],
   "source": [
    "targetlist = "
   ]
  },
  {
   "cell_type": "markdown",
   "metadata": {},
   "source": [
    "### Export the scene to an .ini file \n",
    "\n",
    "The scene can also be exported to an ini file (for future use), or a FITS file <code>scene.writecube</code> to be visualised.\n",
    "\n",
    "Exporting to a FITS file requires specifing a number of aditional parametrs such as the Field of view, required spectral sampling, etc. For large fields of view, and/or small spectral channels, which create large FITS files, writing to a FITS file can take a while (few minutes). For details on this process see the MIRISim science example github repository or the MIRISim user guide. \n",
    "\n",
    "#### Create a scene configuration object for the simulation to come"
   ]
  },
  {
   "cell_type": "code",
   "execution_count": null,
   "metadata": {},
   "outputs": [],
   "source": [
    "scene_config = \n",
    "\n",
    "\n",
    "# export the scene_config to ini file\n",
    "os.system('rm JWebbinar_scene.ini') \n",
    "scene_config.write('JWebbinar_scene.ini')"
   ]
  },
  {
   "cell_type": "markdown",
   "metadata": {
    "collapsed": true
   },
   "source": [
    "## Initialise the Simulation Parameters  <a class=\"anchor\" id=\"Initialise\"></a>\n",
    "\n",
    "This is where the parameters for the MRS simulation get set. Note that for internal consistency in MIRISim, all settings (including those not used in the MRS simulation here) must be set. Those not being used in this MRS simulation are labelled with <code> NOT USED HERE </code> in the comments of each line. \n",
    "\n",
    "**Some KEY points:**\n",
    "\n",
    "1) The outputs of MIRISim depend on which optical path (Imager/LRS/MRS) is being simulated.\n",
    "\n",
    "2) <code>POP</code> sets the 'Principle Optical Path', and dictates which type of simulation is run either: MRS or IMA. \n",
    "\n",
    "3) For the MRS the <code>ConfigPath</code> should be set to the MRS sub-band of your choice. There are 12 options - these  corespond to the four IFU channels (1-4), with each channel having three sub-bands (short, medium and long). Hint: To focus your simulation on the same spot do not change the <code>ConfigPath</code> if switching between <code>disperser</code> options. \n",
    "\n",
    "4) To simulate the full 5-28 micron wavelenght range for the MRS you will need to run a minimum of 3 simulations. With the value for <code>disperser</code> modified each time to cover: <code>disperser = 'SHORT'</code> , <code>disperser = 'MEDIUM'</code>, <code>disperser = 'LONG'</code>. Here <code>detector = 'BOTH'</code> would retun outputs from both the SW and LW channels. If only <code>detector = 'SW'</code> or <code>detector = 'LW'</code> was selected a minimum of 6 simulations would be needed to cover the 5-28 micron range.\n",
    "\n",
    "5) For the imager the choice of subarrays can be set - for the Full array with a FOV of 74\" × 113\" set  <code>POP = 'IMA'</code> and <code>ConfigPath = 'IMA_FULL'</code>.\n",
    "\n",
    "6) If you wish to run a LRS simulation the values <code>POP = 'IMA'</code> and <code>ConfigPath = 'LRS_SLIT'</code> should be selected. \n",
    "\n",
    "7) All keywords in <code>makeSim</code> must be set and present. Do NOT delete any of options even if the values are not relavent to your simulation. "
   ]
  },
  {
   "cell_type": "code",
   "execution_count": null,
   "metadata": {},
   "outputs": [],
   "source": [
    "simulation_config = SimConfig.makeSim(\n",
    "        name  = 'JWebbinar',           # name given to simulation\n",
    "        scene = 'JWebbinar_scene.ini', # name of scene file to input, will use settings below if file does not exist \n",
    "    \n",
    "        rel_obsdate = 0.0,          # relative observation date (0 = launch, 1 = end of 5 yrs)\n",
    "        POP = 'MRS',                # Component on which to center (Imager or MRS)\n",
    "        ConfigPath = 'MRS_2SHORT',  # Configure the Optical path (MRS sub-band)\n",
    "\n",
    "        ############################################################################################\n",
    "        # This is where you set up your MRS parameters - adjust values spefific to your observation \n",
    "        # If doing a imager simulation set by POP='IMA' - these parameters would not be used by MIRISim \n",
    "        \n",
    "        disperser = 'SHORT',        # Which disperser to use (SHORT/MEDIUM/LONG)\n",
    "        detector = 'SW',            # Specify Channel (SW = channels 1,2, LW = channels 3,4, or BOTH)\n",
    "        mrs_mode = 'FAST',          # MRS read mode (default is FAST; SLOW. ~ 24s)\n",
    "        mrs_exposures = 1,          # number of exposures\n",
    "        mrs_integrations = 1,       # number of integrations\n",
    "        mrs_frames = 10,            # number of groups (for MIRI, # Groups = # Frames)\n",
    "    \n",
    "        ############################################################################################\n",
    "        # This is where you set up your dither parameters - adjust values spefific to your observation \n",
    "        \n",
    "        Dither = False,             # Don't Dither    \n",
    "        StartInd = 1,               # Start index for dither pattern        [NOT USED HERE]\n",
    "        NDither = 4,                # Number of dither positions            [NOT USED HERE]\n",
    "        DitherPat = 'mrs_recommended_dither.dat', # Dither pattern to use   [NOT USED HERE]\n",
    "\n",
    "        ############################################################################################\n",
    "        # These parameters are not used in the MRS simulation and should not be adjusted (OR deleted)\n",
    "        ima_exposures = 0,           # [NOT USED HERE]\n",
    "        ima_integrations = 16,       # [NOT USED HERE]\n",
    "        ima_frames = 14,             # [NOT USED HERE]\n",
    "        ima_mode = 'FAST',           # [NOT USED HERE]\n",
    "        filter = 'F1000W',           # [NOT USED HERE]\n",
    "        readDetect = 'BRIGHTSKY'     # [NOT USED HERE]\n",
    "        )"
   ]
  },
  {
   "cell_type": "markdown",
   "metadata": {},
   "source": [
    "### Export the simulation setup to a file"
   ]
  },
  {
   "cell_type": "code",
   "execution_count": null,
   "metadata": {},
   "outputs": [],
   "source": [
    "os.system('rm JWebbinar_simulation.ini')\n",
    "simulation_config.write('JWebbinar_simulation.ini')"
   ]
  },
  {
   "cell_type": "markdown",
   "metadata": {},
   "source": [
    "## Run the simulation <a class=\"anchor\" id=\"run\"></a>\n",
    "\n",
    "Now that the scene and the setup of the simulation have been set, we can run the simulation. The last step before runing the simulation is to setup the defaults for internal things like CDPs using the <code>SimulatorConfig</code> defaults."
   ]
  },
  {
   "cell_type": "code",
   "execution_count": null,
   "metadata": {},
   "outputs": [],
   "source": [
    "simulator_config = \n",
    "\n",
    "# Now run the simulator\n",
    "mysim = \n"
   ]
  },
  {
   "cell_type": "markdown",
   "metadata": {},
   "source": [
    "## Examine some of the results <a class=\"anchor\" id=\"results\"></a>\n",
    "\n",
    "Now that the MIRISim simulation has completed, lets examine the results. \n",
    "\n",
    "The first thing to note is that the outputs are placed in a date-labelled directory taking the form  <code>YYYYMMDD_hhmmss_mirisim</code>.  The name of the output directory is given in the last line of the MIRISim log above.  Because the output directory is date-labelled, we can quantify which was the most recent run of MIRISim, and find its output directory using <code>glob.glob</code>"
   ]
  },
  {
   "cell_type": "code",
   "execution_count": null,
   "metadata": {},
   "outputs": [],
   "source": [
    "outputdir = sorted(glob.glob('*_*_mirisim'),key=os.path.getmtime)[-1]    #[-1] takes the last entry found\n",
    "\n",
    "outputDirContents = os.listdir(outputdir)\n",
    "\n",
    "directories = [name for name in outputDirContents if os.path.isdir(os.path.join(outputdir,name))]\n",
    "files = [name for name in outputDirContents if not os.path.isdir(os.path.join(outputdir,name))]\n",
    "\n",
    "print('The subdirectories in the outputdirectory are:\\n{}\\n'.format(directories)) \n",
    "print('The files in the outputdirectory are:\\n{}'.format(files))"
   ]
  },
  {
   "cell_type": "markdown",
   "metadata": {},
   "source": [
    "The file list contains the log which was also output to the terminal (<code>mirisim.log</code>) and copies of the .ini files used (or created from python inputs) to create the simulation. These versions of the .ini files can be used to re-create the run of the simulation\n",
    "\n",
    "The directories contain various outputs of MIRISim:\n",
    "\n",
    "* **<code> skycubes </code>** houses a 3D representation of the input scene to the MRS simulation (skycubes are not generated for imager or LRS simulations). This cube has not been processed by MIRISim, it is simply a gridded (spatially and spectrally) version of the input scene.  \n",
    "* **<code> illum_models </code>** houses FITS images of the illuminations sent to the detector (sent to SCAsim - the simulator of the Sensor Chip Assembly).  This should have the same format as the detector image, but without all of the detector effects and noise. There are FITS files produced for each exposure and dither position\n",
    "* **<code> det_images </code>** houses FITS images of the final outputs of MIRISim. These detector images have all of the detector effects and noise incorporated. The number of detector images should be the same as the number of illumination models. \n",
    "\n",
    "The headers of the detector images are formatted for ingest into the JWST pipeline. \n",
    "\n",
    "Below is a small code snippet used to draw the images.  it needs to be run, but doesn't produce any output directly (it's called later to show the output images)"
   ]
  },
  {
   "cell_type": "code",
   "execution_count": null,
   "metadata": {},
   "outputs": [],
   "source": [
    "def show_outputs(MIRISim_outputdir,output_type):\n",
    "    '''\n",
    "    plot the specified channel of the MIRISim outputs\n",
    "    :param MIRISim_outputdir:  \n",
    "        name of the date-labelled dir. holding the MIRISIM outputs\n",
    "    :param output_type: \n",
    "        type of output to process \n",
    "        (e.g. illum_models, det_images or skycubes)\n",
    "    '''\n",
    "    \n",
    "    infits = glob.glob('{}/{}/*.fits'.format(MIRISim_outputdir,output_type))[0]\n",
    "    \n",
    "    hdulist = fits.open(infits)\n",
    "    \n",
    "    if output_type.lower() == 'skycubes': \n",
    "        hdu_index = 0\n",
    "        datashape = hdulist[hdu_index].data.shape\n",
    "        central_chan = datashape[0]//2\n",
    "        \n",
    "        plt.imshow(hdulist[hdu_index].data[central_chan,:,:],\n",
    "           origin = 'lower', interpolation = 'nearest',cmap = cm.viridis)\n",
    "        plt.title('channel {} of {}'.format(central_chan,infits.split('/')[-1]))\n",
    "        plt.xlabel(hdulist[hdu_index].header['ctype1'])\n",
    "        plt.ylabel(hdulist[hdu_index].header['ctype2'])\n",
    "    else:\n",
    "        hdu_index = 1\n",
    "        if len(hdulist[hdu_index].data.shape) > 2:\n",
    "            integ,frames,nx,ny = hdulist[hdu_index].data.shape\n",
    "            image = hdulist[hdu_index].data[integ-1,frames-1,:,:]\n",
    "        else:\n",
    "            image = hdulist[hdu_index].data\n",
    "            \n",
    "        \n",
    "        plt.imshow(image, origin = 'lower',cmap = cm.viridis,interpolation='nearest')\n",
    "        plt.title('{}'.format(infits.split('/')[-1]))\n",
    "        plt.xlabel('Along Slice Direction')\n",
    "        plt.ylabel('Wavelength Direction')\n",
    "\n",
    "    plt.colorbar()\n",
    "    plt.savefig('MRS_{}.png'.format(output_type))"
   ]
  },
  {
   "cell_type": "markdown",
   "metadata": {},
   "source": [
    "### Viewing a slice of the skycube\n",
    "\n",
    "Below, we show an image of the central channel of one of the skycubes generated by MIRISim"
   ]
  },
  {
   "cell_type": "code",
   "execution_count": null,
   "metadata": {},
   "outputs": [],
   "source": [
    "show_outputs(outputdir,'skycubes')"
   ]
  },
  {
   "cell_type": "markdown",
   "metadata": {},
   "source": [
    "### Viewing an illumination model\n",
    "\n",
    "Below shows an example of an output illumination model"
   ]
  },
  {
   "cell_type": "code",
   "execution_count": null,
   "metadata": {},
   "outputs": [],
   "source": [
    "show_outputs(outputdir,'illum_models')"
   ]
  },
  {
   "cell_type": "markdown",
   "metadata": {},
   "source": [
    "or doing this manually:"
   ]
  },
  {
   "cell_type": "code",
   "execution_count": null,
   "metadata": {},
   "outputs": [],
   "source": [
    "#Show illumination model\n",
    "infits = glob.glob('{}/illum_models/*.fits'.format(outputdir))[0]\n",
    "\n",
    "hdulist = fits.open(infits)\n",
    "hdulist.info()\n",
    "\n",
    "data = hdulist[1].data\n",
    "\n",
    "dmin,dmax = np.min(data),np.max(data)\n",
    "\n",
    "plt.imshow(hdulist[1].data,origin='lower',vmin = 50*dmin,vmax=0.1*dmax,cmap=cm.viridis);"
   ]
  },
  {
   "cell_type": "markdown",
   "metadata": {},
   "source": [
    "## Viewing the final detector image\n",
    "\n",
    "The detector images are the final output of MIRISim, and have data structures and formatting consistent with what will come from MIRI itself. The data format is JWST pipeline ready.  Below an example image of the last frame of the last integration is shown. The units are <code>DN</code>.\n",
    "\n",
    "Additionally, below the FITS header information for the SCIENCE extension is listed"
   ]
  },
  {
   "cell_type": "code",
   "execution_count": null,
   "metadata": {},
   "outputs": [],
   "source": [
    "show_outputs(outputdir,'det_images')\n",
    "\n",
    "infits = glob.glob('{}/det_images/*.fits'.format(outputdir))[0]\n",
    "hdulist = fits.open(infits)\n",
    "hdulist[1].header"
   ]
  },
  {
   "cell_type": "markdown",
   "metadata": {},
   "source": [
    "To examine each of the detector images:"
   ]
  },
  {
   "cell_type": "code",
   "execution_count": null,
   "metadata": {},
   "outputs": [],
   "source": [
    "infits = glob.glob('{}/det_images/*.fits'.format(outputdir))[0]\n",
    "hdulist = fits.open(infits)\n",
    "hdulist.info()\n",
    "\n",
    "data = hdulist[1].data\n",
    "dmin,dmax = np.min(data),np.max(data)\n",
    "fig = plt.figure(figsize=(18,24))\n",
    "for i in range(0,10):\n",
    "    plt.subplot(5,2,i+1)\n",
    "    plt.imshow(data[0,i,:,:],origin='lower',vmin=dmin,vmax= dmax,cmap=cm.viridis)\n",
    "    plt.title(\"Integration {}\".format(i+1))"
   ]
  },
  {
   "cell_type": "markdown",
   "metadata": {},
   "source": [
    "# The outputs of MIRISim can now be run through the JWST pipeline see:\n",
    "https://jwst-docs.stsci.edu/jwst-data-reduction-pipeline and https://jwst-pipeline.readthedocs.io/en/stable/"
   ]
  },
  {
   "cell_type": "markdown",
   "metadata": {},
   "source": [
    "\n",
    "\n",
    "## Bonus: Running MIRISim with an APT file <a class=\"anchor\" id=\"APTfile\"></a>\n",
    "\n",
    "Instead of setting the <code>Simulation Parameters</code> manually it possible to use MIRISim with the simulation properties provided by a complete APT file.\n",
    "\n",
    "An example is given below. Here the ####.apt is the name of the APT file to be parsed, and scene.ini describes the scene to be used for all\n",
    "observations executed in the APT file.\n",
    "\n",
    "A word of caution - the APT is being continuously updated. Future-proofing is not guaranteed especially if the observation setup changes inside the APT. If they do, the APT parser may break. The APT parser may not return the correct parameters if multiple JWST instruments have been included in the APT file."
   ]
  },
  {
   "cell_type": "code",
   "execution_count": null,
   "metadata": {},
   "outputs": [],
   "source": [
    "# First import the relevant mirisim modules to parse an APT file\n",
    "import miri.apt_parser\n",
    "import mirisim.apt\n",
    "miri.apt_parser.init_log()\n",
    "from mirisim import config_parser as parser "
   ]
  },
  {
   "cell_type": "markdown",
   "metadata": {},
   "source": [
    "In the APT file, there will be a list of targets to be associated with the various observations. These targets have a target number pre-pended to their names by the APT (i.e.'1 NGC-188-FTS107-1'). This number (and following space) is required to be included as part of the target name when specifying a dictionary of scenes."
   ]
  },
  {
   "cell_type": "code",
   "execution_count": null,
   "metadata": {},
   "outputs": [],
   "source": [
    "# create a scene using the default parameters to simplify the example\n",
    "scene_config = parser.SceneConfig.from_default()"
   ]
  },
  {
   "cell_type": "code",
   "execution_count": null,
   "metadata": {},
   "outputs": [],
   "source": [
    "# create a scene dictionary where each of the scenes to be observed comes\n",
    "# from the scene_configuration defined above (i.e. they're all the same)\n",
    "scene = {\n",
    "        '1 NGC-188-FTS107-1':scene_config,\n",
    "        '2 NGC-188-FTS107-2':scene_config,\n",
    "        'NONE':scene_config, # for an observation with no target defined\n",
    "        }"
   ]
  },
  {
   "cell_type": "markdown",
   "metadata": {},
   "source": [
    "Now read MIRI observations from the APT file e.g., \n",
    "<code>observations = miri.apt_parser.parse_apt(\"1232.aptx\")</code>\n",
    "\n",
    "and run a MIRISim simulation using the observation specifications from the APT file\n",
    "\n",
    "<code>mirisim.apt.run(observations, scene_config)</code>\n",
    "\n",
    "**or**\n",
    "\n",
    "run the simulation with the dictionary of scene configurations, rather than a single scene\n",
    "\n",
    "<code>mirisim.apt.run(observations, scene)</code>"
   ]
  },
  {
   "cell_type": "markdown",
   "metadata": {},
   "source": [
    "## Bonus: Using a FITS file for your scene  <a class=\"anchor\" id=\"FITS\"></a>\n",
    "\n",
    "The <code>SkySim</code> can interpret a FITS files rather than the user manually generating their own scene. The following keywords must be present in the fits header: \n",
    "``` \n",
    "NAXIS = 3\n",
    "NAXISi = #of pixels\n",
    "CTYPEi = (see below)\n",
    "CRVALi = reference values\n",
    "CRPIXi = pixel for reference value\n",
    "CDELTi = size of pixel\n",
    "``` \n",
    "\n",
    "Where the CTYPEi values take the form ‘RA—TAN’,’DEC–TAN’, and ‘WAVE'. When Skysim is interpreting the input grid, it calculates values relative to a pixel center. This allows FITS file inputs to be combined with additional sources in the field of view through specifying them in a scene.\n",
    "\n",
    "To import a FITS cube within python:\n",
    "\n",
    "``` \n",
    "from mirisim.skysim import Skycube\n",
    "FITSCUBE = myfile.fits\n",
    "s = Skycube(FITSCUBE)\n",
    "``` "
   ]
  },
  {
   "cell_type": "markdown",
   "metadata": {},
   "source": [
    "## Bonus: Useful functions for making a scene  <a class=\"anchor\" id=\"functions\"></a>\n",
    "\n",
    "- <code>create_star_Phoenix</code> Makes a point source at a location with an SED corresponding to a stellar Phoenix model.\n",
    "- <code>create_star_T</code>  Makes a point source at a location with an SED corresponding to a blackbody of a give temprature.\n",
    "- <code>setup_PD</code> Makes a ‘protoplanetary disks’a location with an SED corresponding to a blackbody of a give temprature.\n",
    "\n"
   ]
  },
  {
   "cell_type": "code",
   "execution_count": null,
   "metadata": {},
   "outputs": [],
   "source": [
    "def create_star_Phoenix(xpos, ypos, Temp=3500, FeH=0.0, logg = 4.44, Fl=1e3, wref=10.0):\n",
    "    \"\"\" Makes a star (point source) instance with given initialisation parameters for Phoenix SED\n",
    "\n",
    "    :param xpos: RA offset from center of scene [arcsec]\n",
    "    :param ypos: Dec offset from center of scene [arcsec]\n",
    "    :param Temp: BB temperature = 3500 default [Kelvin]\n",
    "    :param FeH: Metallicity = 0.1 = solar as default [M/H]\n",
    "    :param logg: log surface gravity = 4.44 = solar as default [cm/s2]\n",
    "    :param Fl: Flux to normalise to  = 1e3 default [micro Jy] \n",
    "    \n",
    "    :return: A point source (star) at a specific location initialised with a Phoenix SED\n",
    "    :rtype: mirisim.skysim.basicsources.Point\n",
    "    :raises: None\n",
    "    \"\"\"    \n",
    "    star = Point(Cen = (xpos,ypos))        # RA, Dec ofset from center of scene [arcsec]\n",
    "    pheSED = wS.PYSPSed(family='phoenix', sedpars=[Temp, FeH, logg], flux=Fl, wref=wref)     \n",
    "    star.set_SED(pheSED)\n",
    "    \n",
    "    return star"
   ]
  },
  {
   "cell_type": "code",
   "execution_count": null,
   "metadata": {},
   "outputs": [],
   "source": [
    "def create_star_T(xpos,ypos, Temp=3500, Fl=1e2, wref=10.0):\n",
    "    \"\"\" Makes a star (point source) instance with given initialisation parameters for a blackbody SED\n",
    "\n",
    "    :param xpos: RA offset from center of scene [arcsec]\n",
    "    :param ypos: Dec offset from center of scene [arcsec]\n",
    "    :param Temp: BB temperature = 3500 default [Kelvin]\n",
    "    :param Fl: Flux to normalise to  = 1e1 default [micro Jy] \n",
    "    \n",
    "    :return: A point source (star) at a specific location initialised with a blackbody SED\n",
    "    :rtype: mirisim.skysim.basicsources.Point\n",
    "    :raises: None\n",
    "    \"\"\"   \n",
    "    star = Point(Cen = (xpos,ypos))        # RA, Dec ofset from center of scene [arcsec]\n",
    "    BBparams = {'Temp': Temp,              # BB temperature = 3500 default [Kelvin]\n",
    "                'wref': wref,              # Microns\n",
    "                'flux': Fl}                # Flux to normalise to  = 1e2 default [micro Jy] \n",
    "    Blackbody = sed.BBSed(**BBparams)\n",
    "    star.set_SED(Blackbody)\n",
    "    \n",
    "    return star"
   ]
  },
  {
   "cell_type": "code",
   "execution_count": null,
   "metadata": {},
   "outputs": [],
   "source": [
    "def setup_PD(xpos, ypos, PA=90, Axratio=0.7, Re=18, Tr_in=1., Tr_out=3.25, Temp=300, Fl=1.4e5, wref=10.0):\n",
    "    \"\"\" Makes a ‘protoplanetary disks’ a (Sersic disk where n=1) instance with given initialisation parameters for a blackbody SED\n",
    "\n",
    "    :param xpos: RA offset from center of scene [arcsec]\n",
    "    :param ypos: Dec offset from center of scene [arcsec]\n",
    "    :param PA: Position angle of the min/maj. axes [degrees]\n",
    "    :param Axratio: Axis ratios\n",
    "    :param Re: scale length of disk \n",
    "    :param Tr_in: where to truncate the inner rad.\n",
    "    :param Tr_out: where to truncate the outer rad. \n",
    "    \n",
    "    \n",
    "    :param Temp: BB temperature = 300 default [Kelvin]\n",
    "    :param Fl: Flux to normalise to  = 1.4e5 default [micro Jy] \n",
    "    \n",
    "    :return: A Sersic Disk  at a specific location initialised with a blackbody SED\n",
    "    :rtype: mirisim.skysim.basicsources.Point\n",
    "    :raises: None\n",
    "    \"\"\"       \n",
    "    \n",
    "    \n",
    "    # setup the spatial part of the disk\n",
    "    PD = SersicDisk(Cen = (xpos,ypos),      # where to centre the disk - RA, Dec ofset from center of scene [arcsec]\n",
    "                    pa = PA,                # position angle of the min/maj. axes\n",
    "                    q = Axratio,            # axis ratios\n",
    "                    n = 1,                  # sersic index (1 = expontential disk)\n",
    "                    re = Re,                # scale length of disk\n",
    "                    rtrunc_in = Tr_in,      # where to truncate the inner rad.\n",
    "                    rtrunc_out = Tr_out     # where to truncate the outer rad.)                  \n",
    "                    )\n",
    "    \n",
    "    # setup the spectral part of the disk\n",
    "    BBparams = {'Temp': Temp,              # BB temperature = 300 default [Kelvin]\n",
    "                'wref': wref,              # ref wave. for flux scaling = 10 Microns default\n",
    "                'flux': Fl}                # Flux to normalise to 1.4e5 at the reference wavelength [micro Jy] \n",
    "    Blackbody = sed.BBSed(**BBparams)\n",
    "    \n",
    "    # attach the SED to the spatial spec. of the disk\n",
    "    PD.set_SED(Blackbody)\n",
    "    return PD"
   ]
  },
  {
   "cell_type": "code",
   "execution_count": null,
   "metadata": {},
   "outputs": [],
   "source": [
    "now = datetime.now()\n",
    "complete = now\n",
    "end_time = now.strftime(\"%H:%M:%S\")\n",
    "\n",
    "print(\"Start Time =\", start_time)\n",
    "print(\"End Time =\", end_time)\n",
    "\n",
    "duration = complete - start\n",
    "duration_in_s = duration.total_seconds()\n",
    "print(\"Duration = \", duration_in_s)"
   ]
  }
 ],
 "metadata": {
  "anaconda-cloud": {},
  "kernelspec": {
   "display_name": "Python 3",
   "language": "python",
   "name": "python3"
  },
  "language_info": {
   "codemirror_mode": {
    "name": "ipython",
    "version": 3
   },
   "file_extension": ".py",
   "mimetype": "text/x-python",
   "name": "python",
   "nbconvert_exporter": "python",
   "pygments_lexer": "ipython3",
   "version": "3.8.8"
  }
 },
 "nbformat": 4,
 "nbformat_minor": 1
}
